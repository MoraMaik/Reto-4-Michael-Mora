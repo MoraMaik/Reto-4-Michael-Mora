{
 "cells": [
  {
   "cell_type": "markdown",
   "metadata": {},
   "source": [
    "# Punto 1"
   ]
  },
  {
   "cell_type": "code",
   "execution_count": 2,
   "metadata": {},
   "outputs": [
    {
     "name": "stdout",
     "output_type": "stream",
     "text": [
      "El número NO corresponde al código ASCII de una vocal minúscula.\n"
     ]
    }
   ],
   "source": [
    "# Función para determinar si un número es el código ASCII de una vocal minúscula\n",
    "def es_vocal_minuscula(codigo):\n",
    "    # Convertir el código entero a su correspondiente carácter ASCII\n",
    "    caracter = chr(codigo)\n",
    "    \n",
    "    # Definir una cadena con todas las vocales minúsculas\n",
    "    vocales_minusculas = 'aeiou'\n",
    "    \n",
    "    # Verificar si el carácter obtenido está en la cadena de vocales minúsculas\n",
    "    if caracter in vocales_minusculas:\n",
    "        return True\n",
    "    else:\n",
    "        return False\n",
    "\n",
    "# Solicitar al usuario que ingrese un número entero\n",
    "while True:\n",
    "    codigo_usuario = input(\"Ingresa un número entero: \")\n",
    "    if codigo_usuario.strip():  # Verificar si la cadena no está vacía\n",
    "        try:\n",
    "            codigo_usuario = int(codigo_usuario)\n",
    "            break  # Salir del bucle si la conversión fue exitosa\n",
    "        except ValueError:\n",
    "            print(\"Por favor, ingresa un número entero válido.\")\n",
    "    else:\n",
    "        print(\"Por favor, ingresa un número.\")\n",
    "\n",
    "# Utilizar la función para determinar si corresponde a una vocal minúscula\n",
    "if es_vocal_minuscula(codigo_usuario):\n",
    "    print(\"El número corresponde al código ASCII de una vocal minúscula.\")\n",
    "else:\n",
    "    print(\"El número NO corresponde al código ASCII de una vocal minúscula.\")\n"
   ]
  },
  {
   "cell_type": "markdown",
   "metadata": {},
   "source": [
    "# Punto 2"
   ]
  },
  {
   "cell_type": "code",
   "execution_count": 4,
   "metadata": {},
   "outputs": [
    {
     "name": "stdout",
     "output_type": "stream",
     "text": [
      "El código ASCII de la letra es par.\n"
     ]
    }
   ],
   "source": [
    "# Función para determinar si el código ASCII de un carácter es par\n",
    "def es_codigo_ascii_par(caracter):\n",
    "    # Obtener el código ASCII del carácter\n",
    "    codigo_ascii = ord(caracter)\n",
    "    \n",
    "    # Verificar si el código ASCII es par\n",
    "    if codigo_ascii % 2 == 0:\n",
    "        return True\n",
    "    else:\n",
    "        return False\n",
    "\n",
    "# Solicitar al usuario que ingrese una cadena de longitud 1\n",
    "cadena_usuario = input(\"Ingresa una cadena de longitud 1: \")\n",
    "\n",
    "# Asegurar que la cadena tenga una longitud de 1\n",
    "if len(cadena_usuario) == 1:\n",
    "    # Utilizar la función para determinar si el código ASCII es par\n",
    "    if es_codigo_ascii_par(cadena_usuario):\n",
    "        print(\"El código ASCII de la letra es par.\")\n",
    "    else:\n",
    "        print(\"El código ASCII de la letra NO es par.\")\n",
    "else:\n",
    "    print(\"Por favor, ingresa una cadena de exactamente 1 carácter de longitud.\")"
   ]
  },
  {
   "cell_type": "markdown",
   "metadata": {},
   "source": [
    "# Punto 3"
   ]
  },
  {
   "cell_type": "code",
   "execution_count": 6,
   "metadata": {},
   "outputs": [
    {
     "name": "stdout",
     "output_type": "stream",
     "text": [
      "El carácter ingresado es un dígito.\n"
     ]
    }
   ],
   "source": [
    "# Solicitar al usuario que ingrese un carácter\n",
    "caracter = input(\"Ingresa un carácter: \")\n",
    "\n",
    "# Asegurar que el usuario haya ingresado exactamente un carácter\n",
    "if len(caracter) == 1:\n",
    "    # Usar el método .isdigit() para determinar si el carácter es un dígito\n",
    "    if caracter.isdigit():\n",
    "        print(\"El carácter ingresado es un dígito.\")\n",
    "    else:\n",
    "        print(\"El carácter ingresado NO es un dígito.\")\n",
    "else:\n",
    "    print(\"Por favor, ingresa exactamente un carácter.\")"
   ]
  },
  {
   "cell_type": "markdown",
   "metadata": {},
   "source": [
    "# Punto 4"
   ]
  },
  {
   "cell_type": "code",
   "execution_count": 7,
   "metadata": {},
   "outputs": [
    {
     "name": "stdout",
     "output_type": "stream",
     "text": [
      "El número 4.2 es positivo\n"
     ]
    }
   ],
   "source": [
    "# Solicitar al usuario que ingrese un número real\n",
    "x = float(input(\"Ingresa un número real x: \"))\n",
    "\n",
    "# Determinar si el número es positivo, negativo o cero\n",
    "if x > 0:\n",
    "    print(f\"El número {x} es positivo\")\n",
    "elif x < 0:\n",
    "    print(f\"El número {x} es negativo\")\n",
    "else:\n",
    "    print(f\"El número {x} es el neutro para la suma\")"
   ]
  },
  {
   "cell_type": "markdown",
   "metadata": {},
   "source": [
    "# Punto 5"
   ]
  },
  {
   "cell_type": "code",
   "execution_count": 8,
   "metadata": {},
   "outputs": [
    {
     "name": "stdout",
     "output_type": "stream",
     "text": [
      "El punto está dentro del círculo.\n"
     ]
    }
   ],
   "source": [
    "import math\n",
    "\n",
    "# Función para calcular la distancia entre dos puntos\n",
    "def calcular_distancia(x1, y1, x2, y2):\n",
    "    return math.sqrt((x2 - x1)**2 + (y2 - y1)**2)\n",
    "\n",
    "# Solicitar al usuario las coordenadas del centro del círculo y el radio\n",
    "centro_x = float(input(\"Ingresa la coordenada x del centro del círculo: \"))\n",
    "centro_y = float(input(\"Ingresa la coordenada y del centro del círculo: \"))\n",
    "radio = float(input(\"Ingresa el radio del círculo: \"))\n",
    "\n",
    "# Solicitar al usuario las coordenadas del punto a verificar\n",
    "punto_x = float(input(\"Ingresa la coordenada x del punto: \"))\n",
    "punto_y = float(input(\"Ingresa la coordenada y del punto: \"))\n",
    "\n",
    "# Calcular la distancia entre el centro del círculo y el punto\n",
    "distancia = calcular_distancia(centro_x, centro_y, punto_x, punto_y)\n",
    "\n",
    "# Determinar si el punto está dentro del círculo\n",
    "if distancia <= radio:\n",
    "    print(\"El punto está dentro del círculo.\")\n",
    "else:\n",
    "    print(\"El punto NO está dentro del círculo.\")"
   ]
  },
  {
   "cell_type": "markdown",
   "metadata": {},
   "source": [
    "# Punto 6"
   ]
  },
  {
   "cell_type": "code",
   "execution_count": 9,
   "metadata": {},
   "outputs": [
    {
     "name": "stdout",
     "output_type": "stream",
     "text": [
      "Con las longitudes dadas, SÍ se puede construir un triángulo.\n"
     ]
    }
   ],
   "source": [
    "\n",
    "# Solicitar al usuario que ingrese las tres longitudes\n",
    "a = float(input(\"Ingresa la longitud del primer lado: \"))\n",
    "b = float(input(\"Ingresa la longitud del segundo lado: \"))\n",
    "c = float(input(\"Ingresa la longitud del tercer lado: \"))\n",
    "\n",
    "# Verificar la desigualdad triangular\n",
    "if a + b > c and a + c > b and b + c > a:\n",
    "    print(\"Con las longitudes dadas, SÍ se puede construir un triángulo.\")\n",
    "else:\n",
    "    print(\"Con las longitudes dadas, NO se puede construir un triángulo.\")\n"
   ]
  }
 ],
 "metadata": {
  "kernelspec": {
   "display_name": "Python 3",
   "language": "python",
   "name": "python3"
  },
  "language_info": {
   "codemirror_mode": {
    "name": "ipython",
    "version": 3
   },
   "file_extension": ".py",
   "mimetype": "text/x-python",
   "name": "python",
   "nbconvert_exporter": "python",
   "pygments_lexer": "ipython3",
   "version": "3.12.2"
  }
 },
 "nbformat": 4,
 "nbformat_minor": 2
}
